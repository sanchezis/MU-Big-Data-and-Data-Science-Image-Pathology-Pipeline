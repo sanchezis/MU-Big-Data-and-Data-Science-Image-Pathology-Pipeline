{
 "cells": [
  {
   "cell_type": "markdown",
   "metadata": {},
   "source": [
    "# Medical Image - TFM\n",
    "<h4>subtitle: Generación de una tubería distribuida para la extracción de características en imágenes médicas patológicas</h4>\n",
    "license: European Union Public Licence (EUPL) v1.2\n",
    "\n",
    "<table>\n",
    "  <tr> <td> author name: </td> <td> Israel Llorens </td> </tr>\n",
    "  <tr> <td> email: </td> <td> sanchezis@hotmail.com </td> </tr>\n",
    "</table>\n",
    "\n",
    "<h7>date: 2024/03/22</h7>\n",
    "\n",
    "---"
   ]
  },
  {
   "cell_type": "code",
   "execution_count": 1,
   "metadata": {},
   "outputs": [],
   "source": [
    "%load_ext autoreload\n",
    "%autoreload"
   ]
  },
  {
   "cell_type": "code",
   "execution_count": 2,
   "metadata": {},
   "outputs": [],
   "source": [
    "import os\n",
    "import sys\n",
    "\n",
    "if './../lib' not in os.environ.get('PATH', '') or \\\n",
    "    os.path.join(  os.getcwd() , 'lib'  ) not in os.environ.get('PATH', ''):\n",
    "    os.environ['PYTHONPATH'] = sys.executable\n",
    "    os.environ['LIBPATH'] = os.pathsep + './../lib' + os.pathsep + '../lib' + os.pathsep + os.path.join( os.path.dirname(  os.getcwd() ), 'lib'  )\n",
    "    os.environ['DYLD_LIBRARY_PATH'] = os.pathsep + './../lib' + os.pathsep + '../lib' + os.pathsep + os.path.join( os.path.dirname(  os.getcwd() ), 'lib'  )\n",
    "    os.environ['LIBRARY_PATH'] = os.pathsep + './../lib' + os.pathsep + '../lib' + os.pathsep + os.path.join( os.path.dirname(  os.getcwd() ), 'lib'  )\n"
   ]
  },
  {
   "cell_type": "markdown",
   "metadata": {},
   "source": []
  },
  {
   "cell_type": "code",
   "execution_count": 3,
   "metadata": {},
   "outputs": [
    {
     "data": {
      "text/plain": [
       "':./../lib:../lib:/Users/illorens/Projects/source/Universidad/viu-MU-BD-and-DS-Image-Pathology/lib'"
      ]
     },
     "execution_count": 3,
     "metadata": {},
     "output_type": "execute_result"
    }
   ],
   "source": [
    "os.environ['DYLD_LIBRARY_PATH']"
   ]
  },
  {
   "cell_type": "code",
   "execution_count": 4,
   "metadata": {},
   "outputs": [
    {
     "ename": "OSError",
     "evalue": "dlopen(./../lib/libopenslide.dylib, 0x0006): Library not loaded: /opt/homebrew/opt/libtiff/lib/libtiff.5.dylib\n  Referenced from: <13BE9501-93DF-3B08-80E9-B0AD388B62B5> /Users/illorens/Projects/source/Universidad/viu-MU-BD-and-DS-Image-Pathology/lib/libopenslide.dylib\n  Reason: tried: '/opt/homebrew/opt/libtiff/lib/libtiff.5.dylib' (no such file), '/System/Volumes/Preboot/Cryptexes/OS/opt/homebrew/opt/libtiff/lib/libtiff.5.dylib' (no such file), '/opt/homebrew/opt/libtiff/lib/libtiff.5.dylib' (no such file), '/usr/lib/libtiff.5.dylib' (no such file, not in dyld cache), '/opt/homebrew/Cellar/libtiff/4.7.0/lib/libtiff.5.dylib' (no such file), '/System/Volumes/Preboot/Cryptexes/OS/opt/homebrew/Cellar/libtiff/4.7.0/lib/libtiff.5.dylib' (no such file), '/opt/homebrew/Cellar/libtiff/4.7.0/lib/libtiff.5.dylib' (no such file), '/usr/lib/libtiff.5.dylib' (no such file, not in dyld cache)",
     "output_type": "error",
     "traceback": [
      "\u001b[0;31m---------------------------------------------------------------------------\u001b[0m",
      "\u001b[0;31mOSError\u001b[0m                                   Traceback (most recent call last)",
      "File \u001b[0;32m~/Projects/source/Universidad/viu-MU-BD-and-DS-Image-Pathology/.venv/lib/python3.11/site-packages/openslide/lowlevel.py:74\u001b[0m, in \u001b[0;36m_load_library\u001b[0;34m()\u001b[0m\n\u001b[1;32m     73\u001b[0m \u001b[39mtry\u001b[39;00m:\n\u001b[0;32m---> 74\u001b[0m     \u001b[39mreturn\u001b[39;00m try_load([\u001b[39m'\u001b[39;49m\u001b[39mlibopenslide.1.dylib\u001b[39;49m\u001b[39m'\u001b[39;49m, \u001b[39m'\u001b[39;49m\u001b[39mlibopenslide.0.dylib\u001b[39;49m\u001b[39m'\u001b[39;49m])\n\u001b[1;32m     75\u001b[0m \u001b[39mexcept\u001b[39;00m \u001b[39mOSError\u001b[39;00m:\n\u001b[1;32m     76\u001b[0m     \u001b[39m# MacPorts doesn't add itself to the dyld search path, but\u001b[39;00m\n\u001b[1;32m     77\u001b[0m     \u001b[39m# does add itself to the find_library() search path\u001b[39;00m\n\u001b[1;32m     78\u001b[0m     \u001b[39m# (DEFAULT_LIBRARY_FALLBACK in ctypes.macholib.dyld).\u001b[39;00m\n",
      "File \u001b[0;32m~/Projects/source/Universidad/viu-MU-BD-and-DS-Image-Pathology/.venv/lib/python3.11/site-packages/openslide/lowlevel.py:58\u001b[0m, in \u001b[0;36m_load_library.<locals>.try_load\u001b[0;34m(names)\u001b[0m\n\u001b[1;32m     57\u001b[0m \u001b[39mtry\u001b[39;00m:\n\u001b[0;32m---> 58\u001b[0m     \u001b[39mreturn\u001b[39;00m cdll\u001b[39m.\u001b[39;49mLoadLibrary(name)\n\u001b[1;32m     59\u001b[0m \u001b[39mexcept\u001b[39;00m \u001b[39mOSError\u001b[39;00m:\n",
      "File \u001b[0;32m/Library/Frameworks/Python.framework/Versions/3.11/lib/python3.11/ctypes/__init__.py:454\u001b[0m, in \u001b[0;36mLibraryLoader.LoadLibrary\u001b[0;34m(self, name)\u001b[0m\n\u001b[1;32m    453\u001b[0m \u001b[39mdef\u001b[39;00m\u001b[39m \u001b[39m\u001b[39mLoadLibrary\u001b[39m(\u001b[39mself\u001b[39m, name):\n\u001b[0;32m--> 454\u001b[0m     \u001b[39mreturn\u001b[39;00m \u001b[39mself\u001b[39;49m\u001b[39m.\u001b[39;49m_dlltype(name)\n",
      "File \u001b[0;32m/Library/Frameworks/Python.framework/Versions/3.11/lib/python3.11/ctypes/__init__.py:376\u001b[0m, in \u001b[0;36mCDLL.__init__\u001b[0;34m(self, name, mode, handle, use_errno, use_last_error, winmode)\u001b[0m\n\u001b[1;32m    375\u001b[0m \u001b[39mif\u001b[39;00m handle \u001b[39mis\u001b[39;00m \u001b[39mNone\u001b[39;00m:\n\u001b[0;32m--> 376\u001b[0m     \u001b[39mself\u001b[39m\u001b[39m.\u001b[39m_handle \u001b[39m=\u001b[39m _dlopen(\u001b[39mself\u001b[39;49m\u001b[39m.\u001b[39;49m_name, mode)\n\u001b[1;32m    377\u001b[0m \u001b[39melse\u001b[39;00m:\n",
      "\u001b[0;31mOSError\u001b[0m: dlopen(libopenslide.0.dylib, 0x0006): tried: 'libopenslide.0.dylib' (no such file), '/System/Volumes/Preboot/Cryptexes/OSlibopenslide.0.dylib' (no such file), '/usr/lib/libopenslide.0.dylib' (no such file, not in dyld cache), 'libopenslide.0.dylib' (no such file), '/usr/lib/libopenslide.0.dylib' (no such file, not in dyld cache)",
      "\nDuring handling of the above exception, another exception occurred:\n",
      "\u001b[0;31mOSError\u001b[0m                                   Traceback (most recent call last)",
      "Cell \u001b[0;32mIn[4], line 1\u001b[0m\n\u001b[0;32m----> 1\u001b[0m \u001b[39mfrom\u001b[39;00m\u001b[39m \u001b[39m\u001b[39mopenslide\u001b[39;00m\u001b[39m \u001b[39m\u001b[39mimport\u001b[39;00m OpenSlide\n",
      "File \u001b[0;32m~/Projects/source/Universidad/viu-MU-BD-and-DS-Image-Pathology/.venv/lib/python3.11/site-packages/openslide/__init__.py:31\u001b[0m\n\u001b[1;32m     27\u001b[0m \u001b[39mfrom\u001b[39;00m\u001b[39m \u001b[39m\u001b[39mio\u001b[39;00m\u001b[39m \u001b[39m\u001b[39mimport\u001b[39;00m BytesIO\n\u001b[1;32m     29\u001b[0m \u001b[39mfrom\u001b[39;00m\u001b[39m \u001b[39m\u001b[39mPIL\u001b[39;00m\u001b[39m \u001b[39m\u001b[39mimport\u001b[39;00m Image, ImageCms\n\u001b[0;32m---> 31\u001b[0m \u001b[39mfrom\u001b[39;00m\u001b[39m \u001b[39m\u001b[39mopenslide\u001b[39;00m\u001b[39m \u001b[39m\u001b[39mimport\u001b[39;00m lowlevel\n\u001b[1;32m     33\u001b[0m \u001b[39m# For the benefit of library users\u001b[39;00m\n\u001b[1;32m     34\u001b[0m \u001b[39mfrom\u001b[39;00m\u001b[39m \u001b[39m\u001b[39mopenslide\u001b[39;00m\u001b[39m.\u001b[39;00m\u001b[39m_version\u001b[39;00m\u001b[39m \u001b[39m\u001b[39mimport\u001b[39;00m __version__  \u001b[39m# noqa: F401  module-imported-but-unused\u001b[39;00m\n",
      "File \u001b[0;32m~/Projects/source/Universidad/viu-MU-BD-and-DS-Image-Pathology/.venv/lib/python3.11/site-packages/openslide/lowlevel.py:92\u001b[0m\n\u001b[1;32m     88\u001b[0m     \u001b[39melse\u001b[39;00m:\n\u001b[1;32m     89\u001b[0m         \u001b[39mreturn\u001b[39;00m try_load([\u001b[39m'\u001b[39m\u001b[39mlibopenslide.so.1\u001b[39m\u001b[39m'\u001b[39m, \u001b[39m'\u001b[39m\u001b[39mlibopenslide.so.0\u001b[39m\u001b[39m'\u001b[39m])\n\u001b[0;32m---> 92\u001b[0m _lib \u001b[39m=\u001b[39m _load_library()\n\u001b[1;32m     95\u001b[0m \u001b[39mclass\u001b[39;00m\u001b[39m \u001b[39m\u001b[39mOpenSlideError\u001b[39;00m(\u001b[39mException\u001b[39;00m):\n\u001b[1;32m     96\u001b[0m \u001b[39m    \u001b[39m\u001b[39m\"\"\"An error produced by the OpenSlide library.\u001b[39;00m\n\u001b[1;32m     97\u001b[0m \n\u001b[1;32m     98\u001b[0m \u001b[39m    Import this from openslide rather than from openslide.lowlevel.\u001b[39;00m\n\u001b[1;32m     99\u001b[0m \u001b[39m    \"\"\"\u001b[39;00m\n",
      "File \u001b[0;32m~/Projects/source/Universidad/viu-MU-BD-and-DS-Image-Pathology/.venv/lib/python3.11/site-packages/openslide/lowlevel.py:87\u001b[0m, in \u001b[0;36m_load_library\u001b[0;34m()\u001b[0m\n\u001b[1;32m     82\u001b[0m         \u001b[39mif\u001b[39;00m lib \u001b[39mis\u001b[39;00m \u001b[39mNone\u001b[39;00m:\n\u001b[1;32m     83\u001b[0m             \u001b[39mraise\u001b[39;00m \u001b[39mModuleNotFoundError\u001b[39;00m(\n\u001b[1;32m     84\u001b[0m                 \u001b[39m\"\u001b[39m\u001b[39mCouldn\u001b[39m\u001b[39m'\u001b[39m\u001b[39mt locate OpenSlide dylib.  Is OpenSlide installed \u001b[39m\u001b[39m\"\u001b[39m\n\u001b[1;32m     85\u001b[0m                 \u001b[39m\"\u001b[39m\u001b[39mcorrectly?  https://openslide.org/api/python/#installing\u001b[39m\u001b[39m\"\u001b[39m\n\u001b[1;32m     86\u001b[0m             )\n\u001b[0;32m---> 87\u001b[0m         \u001b[39mreturn\u001b[39;00m cdll\u001b[39m.\u001b[39;49mLoadLibrary(lib)\n\u001b[1;32m     88\u001b[0m \u001b[39melse\u001b[39;00m:\n\u001b[1;32m     89\u001b[0m     \u001b[39mreturn\u001b[39;00m try_load([\u001b[39m'\u001b[39m\u001b[39mlibopenslide.so.1\u001b[39m\u001b[39m'\u001b[39m, \u001b[39m'\u001b[39m\u001b[39mlibopenslide.so.0\u001b[39m\u001b[39m'\u001b[39m])\n",
      "File \u001b[0;32m/Library/Frameworks/Python.framework/Versions/3.11/lib/python3.11/ctypes/__init__.py:454\u001b[0m, in \u001b[0;36mLibraryLoader.LoadLibrary\u001b[0;34m(self, name)\u001b[0m\n\u001b[1;32m    453\u001b[0m \u001b[39mdef\u001b[39;00m\u001b[39m \u001b[39m\u001b[39mLoadLibrary\u001b[39m(\u001b[39mself\u001b[39m, name):\n\u001b[0;32m--> 454\u001b[0m     \u001b[39mreturn\u001b[39;00m \u001b[39mself\u001b[39;49m\u001b[39m.\u001b[39;49m_dlltype(name)\n",
      "File \u001b[0;32m/Library/Frameworks/Python.framework/Versions/3.11/lib/python3.11/ctypes/__init__.py:376\u001b[0m, in \u001b[0;36mCDLL.__init__\u001b[0;34m(self, name, mode, handle, use_errno, use_last_error, winmode)\u001b[0m\n\u001b[1;32m    373\u001b[0m \u001b[39mself\u001b[39m\u001b[39m.\u001b[39m_FuncPtr \u001b[39m=\u001b[39m _FuncPtr\n\u001b[1;32m    375\u001b[0m \u001b[39mif\u001b[39;00m handle \u001b[39mis\u001b[39;00m \u001b[39mNone\u001b[39;00m:\n\u001b[0;32m--> 376\u001b[0m     \u001b[39mself\u001b[39m\u001b[39m.\u001b[39m_handle \u001b[39m=\u001b[39m _dlopen(\u001b[39mself\u001b[39;49m\u001b[39m.\u001b[39;49m_name, mode)\n\u001b[1;32m    377\u001b[0m \u001b[39melse\u001b[39;00m:\n\u001b[1;32m    378\u001b[0m     \u001b[39mself\u001b[39m\u001b[39m.\u001b[39m_handle \u001b[39m=\u001b[39m handle\n",
      "\u001b[0;31mOSError\u001b[0m: dlopen(./../lib/libopenslide.dylib, 0x0006): Library not loaded: /opt/homebrew/opt/libtiff/lib/libtiff.5.dylib\n  Referenced from: <13BE9501-93DF-3B08-80E9-B0AD388B62B5> /Users/illorens/Projects/source/Universidad/viu-MU-BD-and-DS-Image-Pathology/lib/libopenslide.dylib\n  Reason: tried: '/opt/homebrew/opt/libtiff/lib/libtiff.5.dylib' (no such file), '/System/Volumes/Preboot/Cryptexes/OS/opt/homebrew/opt/libtiff/lib/libtiff.5.dylib' (no such file), '/opt/homebrew/opt/libtiff/lib/libtiff.5.dylib' (no such file), '/usr/lib/libtiff.5.dylib' (no such file, not in dyld cache), '/opt/homebrew/Cellar/libtiff/4.7.0/lib/libtiff.5.dylib' (no such file), '/System/Volumes/Preboot/Cryptexes/OS/opt/homebrew/Cellar/libtiff/4.7.0/lib/libtiff.5.dylib' (no such file), '/opt/homebrew/Cellar/libtiff/4.7.0/lib/libtiff.5.dylib' (no such file), '/usr/lib/libtiff.5.dylib' (no such file, not in dyld cache)"
     ]
    }
   ],
   "source": [
    "from openslide import OpenSlide"
   ]
  },
  {
   "cell_type": "code",
   "execution_count": 2,
   "metadata": {},
   "outputs": [
    {
     "name": "stderr",
     "output_type": "stream",
     "text": [
      "25/03/23 23:55:53 WARN Utils: Your hostname, Airon.local resolves to a loopback address: 127.0.0.1; using 192.168.100.210 instead (on interface en0)\n",
      "25/03/23 23:55:53 WARN Utils: Set SPARK_LOCAL_IP if you need to bind to another address\n",
      "Setting default log level to \"WARN\".\n",
      "To adjust logging level use sc.setLogLevel(newLevel). For SparkR, use setLogLevel(newLevel).\n",
      "25/03/23 23:55:54 WARN NativeCodeLoader: Unable to load native-hadoop library for your platform... using builtin-java classes where applicable\n",
      "[Stage 0:>                                                        (0 + 12) / 12]\r"
     ]
    },
    {
     "name": "stdout",
     "output_type": "stream",
     "text": [
      "+---+-------------------+\n",
      "| id|openslide_installed|\n",
      "+---+-------------------+\n",
      "|  0|              false|\n",
      "|  1|              false|\n",
      "|  2|              false|\n",
      "|  3|              false|\n",
      "|  4|              false|\n",
      "|  5|              false|\n",
      "|  6|              false|\n",
      "|  7|              false|\n",
      "|  8|              false|\n",
      "|  9|              false|\n",
      "+---+-------------------+\n",
      "\n"
     ]
    },
    {
     "name": "stderr",
     "output_type": "stream",
     "text": [
      "                                                                                \r"
     ]
    }
   ],
   "source": [
    "from pyspark.sql.functions import udf\n",
    "from pyspark.sql.types import BooleanType\n",
    "\n",
    "from pyspark.sql import SparkSession\n",
    "from pyspark.sql import functions as F\n",
    "\n",
    "# Initialize Spark with OpenSlide config\n",
    "spark = SparkSession.builder \\\n",
    "    .appName(\"TIAToolboxWSI\") \\\n",
    "    .config(\"spark.executorEnv.OPENSLIDE_PATH\", \"/usr/lib/openslide\") \\\n",
    "    .config(\"spark.executorEnv.OBJC_DISABLE_INITIALIZE_FORK_SAFETY\", \"YES\") \\\n",
    "    .getOrCreate()\n",
    "\n",
    "@udf(BooleanType())\n",
    "def verify_openslide():\n",
    "    try:\n",
    "        from openslide import OpenSlide\n",
    "        return True\n",
    "    except:\n",
    "        return False\n",
    "\n",
    "# Check installation across cluster\n",
    "spark.range(10).withColumn(\"openslide_installed\", verify_openslide()).show()    "
   ]
  }
 ],
 "metadata": {
  "language_info": {
   "name": "python"
  }
 },
 "nbformat": 4,
 "nbformat_minor": 2
}
