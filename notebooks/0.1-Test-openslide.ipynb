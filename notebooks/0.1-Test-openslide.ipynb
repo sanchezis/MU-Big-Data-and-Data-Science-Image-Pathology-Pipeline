{
 "cells": [
  {
   "cell_type": "markdown",
   "metadata": {},
   "source": [
    "# Medical Image - TFM\n",
    "<h4>subtitle: Generación de una tubería distribuida para la extracción de características en imágenes médicas patológicas</h4>\n",
    "license: European Union Public Licence (EUPL) v1.2\n",
    "\n",
    "<table>\n",
    "  <tr> <td> author name: </td> <td> Israel Llorens </td> </tr>\n",
    "  <tr> <td> email: </td> <td> sanchezis@hotmail.com </td> </tr>\n",
    "</table>\n",
    "\n",
    "<h7>date: 2024/03/22</h7>\n",
    "\n",
    "---"
   ]
  },
  {
   "cell_type": "code",
   "execution_count": 1,
   "metadata": {},
   "outputs": [],
   "source": [
    "%load_ext autoreload\n",
    "%autoreload"
   ]
  },
  {
   "cell_type": "markdown",
   "metadata": {},
   "source": []
  },
  {
   "cell_type": "code",
   "execution_count": 2,
   "metadata": {},
   "outputs": [],
   "source": [
    "from openslide import OpenSlide"
   ]
  },
  {
   "cell_type": "code",
   "execution_count": 3,
   "metadata": {},
   "outputs": [
    {
     "name": "stderr",
     "output_type": "stream",
     "text": [
      "25/03/24 01:11:25 WARN Utils: Your hostname, Airon.local resolves to a loopback address: 127.0.0.1; using 192.168.100.210 instead (on interface en0)\n",
      "25/03/24 01:11:25 WARN Utils: Set SPARK_LOCAL_IP if you need to bind to another address\n",
      "Setting default log level to \"WARN\".\n",
      "To adjust logging level use sc.setLogLevel(newLevel). For SparkR, use setLogLevel(newLevel).\n",
      "25/03/24 01:11:26 WARN NativeCodeLoader: Unable to load native-hadoop library for your platform... using builtin-java classes where applicable\n",
      "[Stage 0:>                                                        (0 + 12) / 12]\r"
     ]
    },
    {
     "name": "stdout",
     "output_type": "stream",
     "text": [
      "+---+-------------------+\n",
      "| id|openslide_installed|\n",
      "+---+-------------------+\n",
      "|  0|               true|\n",
      "|  1|               true|\n",
      "|  2|               true|\n",
      "|  3|               true|\n",
      "|  4|               true|\n",
      "|  5|               true|\n",
      "|  6|               true|\n",
      "|  7|               true|\n",
      "|  8|               true|\n",
      "|  9|               true|\n",
      "+---+-------------------+\n",
      "\n"
     ]
    },
    {
     "name": "stderr",
     "output_type": "stream",
     "text": [
      "                                                                                \r"
     ]
    }
   ],
   "source": [
    "from pyspark.sql.functions import udf\n",
    "from pyspark.sql.types import BooleanType\n",
    "\n",
    "from pyspark.sql import SparkSession\n",
    "from pyspark.sql import functions as F\n",
    "\n",
    "# Initialize Spark with OpenSlide config\n",
    "spark = SparkSession.builder \\\n",
    "    .appName(\"TIAToolboxWSI\") \\\n",
    "    .config(\"spark.executorEnv.OPENSLIDE_PATH\", \"/usr/lib/openslide\") \\\n",
    "    .config(\"spark.executorEnv.OBJC_DISABLE_INITIALIZE_FORK_SAFETY\", \"YES\") \\\n",
    "    .getOrCreate()\n",
    "\n",
    "@udf(BooleanType())\n",
    "def verify_openslide():\n",
    "    try:\n",
    "        from openslide import OpenSlide\n",
    "        return True\n",
    "    except:\n",
    "        return False\n",
    "\n",
    "# Check installation across cluster\n",
    "spark.range(10).withColumn(\"openslide_installed\", verify_openslide()).show()    "
   ]
  }
 ],
 "metadata": {
  "language_info": {
   "name": "python"
  }
 },
 "nbformat": 4,
 "nbformat_minor": 2
}
