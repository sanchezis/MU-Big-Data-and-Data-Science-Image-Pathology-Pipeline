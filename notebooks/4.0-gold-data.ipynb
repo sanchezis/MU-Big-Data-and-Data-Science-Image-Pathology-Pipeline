{
 "cells": [
  {
   "cell_type": "markdown",
   "metadata": {},
   "source": [
    "# Medical Image - TFM\n",
    "<h4>subtitle: Generación de una tubería distribuida para la extracción de características en imágenes médicas patológicas</h4>\n",
    "license: European Union Public Licence (EUPL) v1.2\n",
    "\n",
    "<table>\n",
    "  <tr> <td> author name: </td> <td> Israel Llorens </td> </tr>\n",
    "  <tr> <td> email: </td> <td> sanchezis@hotmail.com </td> </tr>\n",
    "</table>\n",
    "\n",
    "<h7>date: 2025/03/23</h7>\n",
    "\n",
    "---"
   ]
  },
  {
   "cell_type": "code",
   "execution_count": 1,
   "metadata": {},
   "outputs": [],
   "source": [
    "%load_ext autoreload\n",
    "%autoreload"
   ]
  },
  {
   "cell_type": "markdown",
   "metadata": {},
   "source": []
  },
  {
   "cell_type": "code",
   "execution_count": 1,
   "metadata": {},
   "outputs": [
    {
     "name": "stderr",
     "output_type": "stream",
     "text": [
      "25/03/24 11:22:55 WARN Utils: Your hostname, Airon.local resolves to a loopback address: 127.0.0.1; using 192.168.100.210 instead (on interface en0)\n",
      "25/03/24 11:22:55 WARN Utils: Set SPARK_LOCAL_IP if you need to bind to another address\n",
      "Setting default log level to \"WARN\".\n",
      "To adjust logging level use sc.setLogLevel(newLevel). For SparkR, use setLogLevel(newLevel).\n",
      "25/03/24 11:22:55 WARN NativeCodeLoader: Unable to load native-hadoop library for your platform... using builtin-java classes where applicable\n",
      "25/03/24 11:22:56 WARN Utils: Service 'SparkUI' could not bind on port 4040. Attempting port 4041.\n",
      "25/03/24 11:22:56 WARN Utils: Service 'SparkUI' could not bind on port 4041. Attempting port 4042.\n",
      "25/03/24 11:22:56 INFO SharedState: Setting hive.metastore.warehouse.dir ('null') to the value of spark.sql.warehouse.dir.\n",
      "25/03/24 11:22:56 INFO SharedState: Warehouse path is 'file:/Users/illorens/Projects/source/Universidad/viu-MU-BD-and-DS-Image-Pathology/notebooks/spark-warehouse'.\n"
     ]
    }
   ],
   "source": [
    "import init\n",
    "from digital_pathology.spark import spark"
   ]
  },
  {
   "cell_type": "code",
   "execution_count": 10,
   "metadata": {},
   "outputs": [
    {
     "name": "stderr",
     "output_type": "stream",
     "text": [
      "25/03/24 11:52:56 INFO BlockManagerInfo: Removed broadcast_3_piece0 on 192.168.100.210:57096 in memory (size: 6.6 KiB, free: 9.4 GiB)\n",
      "25/03/24 11:52:56 INFO BlockManagerInfo: Removed broadcast_1_piece0 on 192.168.100.210:57096 in memory (size: 6.6 KiB, free: 9.4 GiB)\n",
      "25/03/24 11:52:56 INFO BlockManagerInfo: Removed broadcast_0_piece0 on 192.168.100.210:57096 in memory (size: 6.6 KiB, free: 9.4 GiB)\n",
      "25/03/24 11:52:56 INFO BlockManagerInfo: Removed broadcast_5_piece0 on 192.168.100.210:57096 in memory (size: 6.6 KiB, free: 9.4 GiB)\n",
      "25/03/24 11:52:56 INFO BlockManagerInfo: Removed broadcast_2_piece0 on 192.168.100.210:57096 in memory (size: 6.6 KiB, free: 9.4 GiB)\n",
      "25/03/24 11:52:56 INFO BlockManagerInfo: Removed broadcast_4_piece0 on 192.168.100.210:57096 in memory (size: 6.6 KiB, free: 9.4 GiB)\n"
     ]
    }
   ],
   "source": [
    "import os\n",
    "try:\n",
    "    import pyspark\n",
    "    from pyspark.sql.functions import col, isnan, when, count,to_date,year,month,expr,hour,dayofweek,lower,array_remove,collect_list,lit\n",
    "    from pyspark.sql.functions import pandas_udf,split\n",
    "    from pyspark.sql.types import StructField,StructType,StringType,DoubleType,FloatType,IntegerType, ArrayType, DoubleType, LongType\n",
    "    import pyspark.sql.functions as F\n",
    "except:\n",
    "    pass\n",
    "import pandas as pd"
   ]
  }
 ],
 "metadata": {
  "language_info": {
   "name": "python"
  }
 },
 "nbformat": 4,
 "nbformat_minor": 2
}
