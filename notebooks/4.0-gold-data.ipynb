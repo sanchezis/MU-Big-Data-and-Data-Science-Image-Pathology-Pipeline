{
 "cells": [
  {
   "cell_type": "markdown",
   "metadata": {},
   "source": [
    "# Medical Image - TFM\n",
    "<h4>subtitle: Generación de una tubería distribuida para la extracción de características en imágenes médicas patológicas</h4>\n",
    "license: European Union Public Licence (EUPL) v1.2\n",
    "\n",
    "<table>\n",
    "  <tr> <td> author name: </td> <td> Israel Llorens </td> </tr>\n",
    "  <tr> <td> email: </td> <td> sanchezis@hotmail.com </td> </tr>\n",
    "</table>\n",
    "\n",
    "<h7>date: 2025/03/23</h7>\n",
    "\n",
    "---"
   ]
  },
  {
   "cell_type": "code",
   "execution_count": 1,
   "metadata": {},
   "outputs": [],
   "source": [
    "%load_ext autoreload\n",
    "%autoreload"
   ]
  },
  {
   "cell_type": "markdown",
   "metadata": {},
   "source": [
    "## Inicialización"
   ]
  },
  {
   "cell_type": "code",
   "execution_count": 2,
   "metadata": {},
   "outputs": [
    {
     "name": "stderr",
     "output_type": "stream",
     "text": [
      "25/03/24 16:29:34 WARN Utils: Your hostname, Airon.local resolves to a loopback address: 127.0.0.1; using 192.168.100.210 instead (on interface en0)\n",
      "25/03/24 16:29:34 WARN Utils: Set SPARK_LOCAL_IP if you need to bind to another address\n",
      "Setting default log level to \"WARN\".\n",
      "To adjust logging level use sc.setLogLevel(newLevel). For SparkR, use setLogLevel(newLevel).\n",
      "25/03/24 16:29:35 WARN NativeCodeLoader: Unable to load native-hadoop library for your platform... using builtin-java classes where applicable\n",
      "25/03/24 16:29:35 WARN Utils: Service 'SparkUI' could not bind on port 4040. Attempting port 4041.\n"
     ]
    }
   ],
   "source": [
    "import init\n",
    "from digital_pathology.spark import spark"
   ]
  },
  {
   "cell_type": "code",
   "execution_count": 3,
   "metadata": {},
   "outputs": [],
   "source": [
    "import os\n",
    "try:\n",
    "    import pyspark\n",
    "    from pyspark.sql.functions import col, isnan, when, count,to_date,year,month,expr,hour,dayofweek,lower,array_remove,collect_list,lit\n",
    "    from pyspark.sql.functions import pandas_udf,split\n",
    "    from pyspark.sql.types import StructField,StructType,StringType,DoubleType,FloatType,IntegerType, ArrayType, DoubleType, LongType\n",
    "    import pyspark.sql.functions as F\n",
    "except:\n",
    "    pass\n",
    "import pandas as pd"
   ]
  },
  {
   "cell_type": "code",
   "execution_count": 4,
   "metadata": {},
   "outputs": [],
   "source": [
    "# Copyright (c) 2024 Israel Llorens\n",
    "# Licensed under the EUPL-1.2  \n",
    "\n",
    "__author__ = \"Israel Llorens <sanchezis@hotmail.com>\"\n",
    "__copyright__ = \"Copyright 2024, Israel Llorens\"\n",
    "__license__ = \"EUPL-1.2\"\n",
    "\n",
    "import logging\n",
    "import os\n",
    "\n",
    "import pandas as pd\n",
    "import glob\n",
    "import pyspark.sql.functions as F\n",
    "import pyspark.sql.types as T\n",
    "\n",
    "from pyspark.sql.functions import udf\n",
    "from pyspark.sql.types import BooleanType\n",
    "\n",
    "from tiatoolbox import logger\n",
    "from tiatoolbox.models.architecture.unet import UNetModel\n",
    "from tiatoolbox.models.engine.semantic_segmentor import (\n",
    "    IOSegmentorConfig,\n",
    "    SemanticSegmentor,\n",
    ")\n",
    "from tiatoolbox.utils.misc import download_data, imread\n",
    "from tiatoolbox.utils.visualization import overlay_prediction_mask\n",
    "from tiatoolbox.wsicore.wsireader import WSIReader\n",
    "\n",
    "try:\n",
    "    import pyspark\n",
    "    from pyspark.sql.functions import col, isnan, when, count,to_date,year,month,expr,hour,dayofweek,lower,array_remove,collect_list,lit\n",
    "    from pyspark.sql.functions import pandas_udf,split\n",
    "    from pyspark.sql.types import ArrayType, DoubleType, StringType\n",
    "    from pyspark.sql.types import StructField,StructType,StringType,DoubleType,FloatType,IntegerType, LongType\n",
    "    import pyspark.sql.functions as F\n",
    "except:\n",
    "    pass\n",
    "\n",
    "\n",
    "# Clear logger to use tiatoolbox.logger\n",
    "import logging\n",
    "import warnings\n",
    "\n",
    "if logging.getLogger().hasHandlers():\n",
    "    logging.getLogger().handlers.clear()\n",
    "\n",
    "import matplotlib as mpl\n",
    "import matplotlib.pyplot as plt\n",
    "import numpy as np\n",
    "import torch\n",
    "from matplotlib import cm\n",
    "\n",
    "from tiatoolbox import logger\n",
    "from tiatoolbox.models.architecture.unet import UNetModel\n",
    "from tiatoolbox.models.engine.semantic_segmentor import (\n",
    "    IOSegmentorConfig,\n",
    "    SemanticSegmentor,\n",
    ")\n",
    "from tiatoolbox.utils.misc import download_data, imread\n",
    "from tiatoolbox.utils.visualization import overlay_prediction_mask\n",
    "from tiatoolbox.wsicore.wsireader import WSIReader\n",
    "\n",
    "from urllib import request\n",
    "import certifi\n",
    "import ssl\n",
    "import os\n",
    "\n",
    "import numpy as np\n",
    "import histomicstk as htk\n",
    "import skimage\n",
    "import scipy as sp\n",
    "\n",
    "import init\n",
    "from digital_pathology.spark import spark\n",
    "from digital_pathology.process.model_selection import ResNetModel"
   ]
  },
  {
   "cell_type": "markdown",
   "metadata": {},
   "source": [
    "## Gold Data"
   ]
  },
  {
   "cell_type": "code",
   "execution_count": 5,
   "metadata": {},
   "outputs": [
    {
     "data": {
      "text/plain": [
       "['../data/3-nucleotids.parquet',\n",
       " '../data/2-stardist-nucleotids.parquet',\n",
       " '../data/0-extract.parquet',\n",
       " '../data/1-download.parquet',\n",
       " '../data/4-nucleotids.parquet']"
      ]
     },
     "execution_count": 5,
     "metadata": {},
     "output_type": "execute_result"
    }
   ],
   "source": [
    "glob.glob(os.path.join('..','data', '*.parquet') )"
   ]
  },
  {
   "cell_type": "code",
   "execution_count": 9,
   "metadata": {},
   "outputs": [],
   "source": [
    "data_0 = spark.read.parquet(os.path.join('..','data', '0-extract.parquet'))\n",
    "data_1 = spark.read.parquet('../data/1-download.parquet')\n",
    "data_3 = spark.read.parquet('../data/3-nucleotids.parquet')\n",
    "data_4 = spark.read.parquet('../data/4-nucleotids.parquet')\\\n",
    "            .withColumnRenamed('extract_tumor(filename, data/patient_extracts)', 'features')"
   ]
  },
  {
   "cell_type": "code",
   "execution_count": 8,
   "metadata": {},
   "outputs": [
    {
     "data": {
      "text/html": [
       "<table border='1'>\n",
       "<tr><th>modificationTime</th><th>length</th><th>filename</th><th>patient_key</th><th>patient_id</th><th>found_nucleotids</th></tr>\n",
       "<tr><td>2025-03-23 03:47:...</td><td>1333915</td><td>patient_010_node_...</td><td>patient_010_node_...</td><td>patient_010</td><td>144</td></tr>\n",
       "<tr><td>2025-03-23 03:46:...</td><td>716617</td><td>patient_010_node_...</td><td>patient_010_node_...</td><td>patient_010</td><td>224</td></tr>\n",
       "<tr><td>2025-03-23 03:47:...</td><td>388017</td><td>patient_010_node_...</td><td>patient_010_node_...</td><td>patient_010</td><td>14</td></tr>\n",
       "<tr><td>2025-03-23 02:26:...</td><td>17166</td><td>patient_004_node_...</td><td>patient_004_node_...</td><td>patient_004</td><td>7</td></tr>\n",
       "<tr><td>2025-03-23 02:38:...</td><td>696266</td><td>patient_005_node_...</td><td>patient_005_node_...</td><td>patient_005</td><td>32</td></tr>\n",
       "<tr><td>2025-03-23 01:59:...</td><td>59455</td><td>patient_000_node_...</td><td>patient_000_node_...</td><td>patient_000</td><td>3</td></tr>\n",
       "<tr><td>2025-03-23 03:14:...</td><td>106998</td><td>patient_008_node_...</td><td>patient_008_node_...</td><td>patient_008</td><td>68</td></tr>\n",
       "<tr><td>2025-03-23 01:47:...</td><td>655083</td><td>patient_000_node_...</td><td>patient_000_node_...</td><td>patient_000</td><td>394</td></tr>\n",
       "<tr><td>2025-03-23 03:47:...</td><td>449542</td><td>patient_010_node_...</td><td>patient_010_node_...</td><td>patient_010</td><td>187</td></tr>\n",
       "<tr><td>2025-03-23 03:47:...</td><td>642386</td><td>patient_010_node_...</td><td>patient_010_node_...</td><td>patient_010</td><td>168</td></tr>\n",
       "<tr><td>2025-03-23 03:47:...</td><td>709045</td><td>patient_010_node_...</td><td>patient_010_node_...</td><td>patient_010</td><td>173</td></tr>\n",
       "<tr><td>2025-03-23 01:48:...</td><td>1556572</td><td>patient_000_node_...</td><td>patient_000_node_...</td><td>patient_000</td><td>233</td></tr>\n",
       "<tr><td>2025-03-23 02:55:...</td><td>902717</td><td>patient_005_node_...</td><td>patient_005_node_...</td><td>patient_005</td><td>388</td></tr>\n",
       "<tr><td>2025-03-23 03:14:...</td><td>306562</td><td>patient_008_node_...</td><td>patient_008_node_...</td><td>patient_008</td><td>109</td></tr>\n",
       "<tr><td>2025-03-23 03:47:...</td><td>196077</td><td>patient_010_node_...</td><td>patient_010_node_...</td><td>patient_010</td><td>26</td></tr>\n",
       "<tr><td>2025-03-23 03:14:...</td><td>523387</td><td>patient_008_node_...</td><td>patient_008_node_...</td><td>patient_008</td><td>12</td></tr>\n",
       "<tr><td>2025-03-23 02:57:...</td><td>591189</td><td>patient_005_node_...</td><td>patient_005_node_...</td><td>patient_005</td><td>18</td></tr>\n",
       "<tr><td>2025-03-23 03:33:...</td><td>48055</td><td>patient_010_node_...</td><td>patient_010_node_...</td><td>patient_010</td><td>7</td></tr>\n",
       "<tr><td>2025-03-23 02:11:...</td><td>65556</td><td>patient_004_node_...</td><td>patient_004_node_...</td><td>patient_004</td><td>11</td></tr>\n",
       "<tr><td>2025-03-23 03:47:...</td><td>36865</td><td>patient_010_node_...</td><td>patient_010_node_...</td><td>patient_010</td><td>8</td></tr>\n",
       "</table>\n",
       "only showing top 20 rows\n"
      ],
      "text/plain": [
       "+--------------------+-------+--------------------+--------------------+-----------+----------------+\n",
       "|    modificationTime| length|            filename|         patient_key| patient_id|found_nucleotids|\n",
       "+--------------------+-------+--------------------+--------------------+-----------+----------------+\n",
       "|2025-03-23 03:47:...|1333915|patient_010_node_...|patient_010_node_...|patient_010|             144|\n",
       "|2025-03-23 03:46:...| 716617|patient_010_node_...|patient_010_node_...|patient_010|             224|\n",
       "|2025-03-23 03:47:...| 388017|patient_010_node_...|patient_010_node_...|patient_010|              14|\n",
       "|2025-03-23 02:26:...|  17166|patient_004_node_...|patient_004_node_...|patient_004|               7|\n",
       "|2025-03-23 02:38:...| 696266|patient_005_node_...|patient_005_node_...|patient_005|              32|\n",
       "|2025-03-23 01:59:...|  59455|patient_000_node_...|patient_000_node_...|patient_000|               3|\n",
       "|2025-03-23 03:14:...| 106998|patient_008_node_...|patient_008_node_...|patient_008|              68|\n",
       "|2025-03-23 01:47:...| 655083|patient_000_node_...|patient_000_node_...|patient_000|             394|\n",
       "|2025-03-23 03:47:...| 449542|patient_010_node_...|patient_010_node_...|patient_010|             187|\n",
       "|2025-03-23 03:47:...| 642386|patient_010_node_...|patient_010_node_...|patient_010|             168|\n",
       "|2025-03-23 03:47:...| 709045|patient_010_node_...|patient_010_node_...|patient_010|             173|\n",
       "|2025-03-23 01:48:...|1556572|patient_000_node_...|patient_000_node_...|patient_000|             233|\n",
       "|2025-03-23 02:55:...| 902717|patient_005_node_...|patient_005_node_...|patient_005|             388|\n",
       "|2025-03-23 03:14:...| 306562|patient_008_node_...|patient_008_node_...|patient_008|             109|\n",
       "|2025-03-23 03:47:...| 196077|patient_010_node_...|patient_010_node_...|patient_010|              26|\n",
       "|2025-03-23 03:14:...| 523387|patient_008_node_...|patient_008_node_...|patient_008|              12|\n",
       "|2025-03-23 02:57:...| 591189|patient_005_node_...|patient_005_node_...|patient_005|              18|\n",
       "|2025-03-23 03:33:...|  48055|patient_010_node_...|patient_010_node_...|patient_010|               7|\n",
       "|2025-03-23 02:11:...|  65556|patient_004_node_...|patient_004_node_...|patient_004|              11|\n",
       "|2025-03-23 03:47:...|  36865|patient_010_node_...|patient_010_node_...|patient_010|               8|\n",
       "+--------------------+-------+--------------------+--------------------+-----------+----------------+\n",
       "only showing top 20 rows"
      ]
     },
     "execution_count": 8,
     "metadata": {},
     "output_type": "execute_result"
    }
   ],
   "source": [
    "data_3"
   ]
  },
  {
   "cell_type": "code",
   "execution_count": 10,
   "metadata": {},
   "outputs": [
    {
     "name": "stdout",
     "output_type": "stream",
     "text": [
      "+---------------------------------------------------------------+----------------------+-----------+------------------------------------------------------------------------------------------------------------------------------------------------------+\n",
      "|filename                                                       |patient_key           |patient_id |features                                                                                                                                              |\n",
      "+---------------------------------------------------------------+----------------------+-----------+------------------------------------------------------------------------------------------------------------------------------------------------------+\n",
      "|patient_000_node_1.tif_tile_44_x0_y166912_score22950.0.png     |patient_000_node_1.tif|patient_000|{[ 28738  32662      0      0 987176], [('Tumour', 2.7407), ('Stroma', 3.1149), ('Inflamatory', 0.0), ('Necrosis', 0.0), ('Others', 94.1444)]}        |\n",
      "|patient_004_node_1.tif_tile_29_x96256_y142336_score25500.0.png |patient_004_node_1.tif|patient_004|{[  1743  70545      0      0 332192], [('Tumour', 0.4309), ('Stroma', 17.4409), ('Inflamatory', 0.0), ('Necrosis', 0.0), ('Others', 82.1282)]}       |\n",
      "|patient_009_node_2.tif_tile_12_x96256_y133120_score25500.0.png |patient_009_node_2.tif|patient_009|{[  3457  16707      0      0 384316], [('Tumour', 0.8547), ('Stroma', 4.1305), ('Inflamatory', 0.0), ('Necrosis', 0.0), ('Others', 95.0148)]}        |\n",
      "|patient_008_node_0.tif_tile_31_x56320_y75776_score24235.5.png  |patient_008_node_0.tif|patient_008|{[     17   43435       0       0 1005124], [('Tumour', 0.0016), ('Stroma', 4.1423), ('Inflamatory', 0.0), ('Necrosis', 0.0), ('Others', 95.8561)]}   |\n",
      "|patient_004_node_2.tif_tile_46_x94208_y47104_score25500.0.png  |patient_004_node_2.tif|patient_004|{[    41 375607      0      0 402592], [('Tumour', 0.0053), ('Stroma', 48.2636), ('Inflamatory', 0.0), ('Necrosis', 0.0), ('Others', 51.7311)]}       |\n",
      "|patient_010_node_3.tif_tile_31_x43008_y38912_score21706.6.png  |patient_010_node_3.tif|patient_010|{[    912      95       0       0 1047569], [('Tumour', 0.087), ('Stroma', 0.0091), ('Inflamatory', 0.0), ('Necrosis', 0.0), ('Others', 99.904)]}     |\n",
      "|patient_004_node_1.tif_tile_129_x92160_y125952_score22950.0.png|patient_004_node_1.tif|patient_004|{[   1328       0       0       0 1047248], [('Tumour', 0.1266), ('Stroma', 0.0), ('Inflamatory', 0.0), ('Necrosis', 0.0), ('Others', 99.8734)]}      |\n",
      "|patient_009_node_2.tif_tile_13_x96256_y134144_score25500.0.png |patient_009_node_2.tif|patient_009|{[  8132   4631      0      0 391717], [('Tumour', 2.0105), ('Stroma', 1.1449), ('Inflamatory', 0.0), ('Necrosis', 0.0), ('Others', 96.8446)]}        |\n",
      "|patient_004_node_2.tif_tile_47_x94208_y48128_score25500.0.png  |patient_004_node_2.tif|patient_004|{[    18 351365      0      0 426857], [('Tumour', 0.0023), ('Stroma', 45.1487), ('Inflamatory', 0.0), ('Necrosis', 0.0), ('Others', 54.849)]}        |\n",
      "|patient_009_node_2.tif_tile_109_x24576_y196608_score23800.0.png|patient_009_node_2.tif|patient_009|{[     0  39310      0      0 593522], [('Tumour', 0.0), ('Stroma', 6.2118), ('Inflamatory', 0.0), ('Necrosis', 0.0), ('Others', 93.7882)]}           |\n",
      "|patient_000_node_1.tif_tile_55_x0_y159744_score22695.0.png     |patient_000_node_1.tif|patient_000|{[   2452       0       0       0 1046124], [('Tumour', 0.2338), ('Stroma', 0.0), ('Inflamatory', 0.0), ('Necrosis', 0.0), ('Others', 99.7662)]}      |\n",
      "|patient_009_node_2.tif_tile_74_x16384_y196608_score25500.0.png |patient_009_node_2.tif|patient_009|{[     0      0      0      0 632832], [('Tumour', 0.0), ('Stroma', 0.0), ('Inflamatory', 0.0), ('Necrosis', 0.0), ('Others', 100.0)]}                |\n",
      "|patient_005_node_0.tif_tile_118_x0_y71680_score22950.0.png     |patient_005_node_0.tif|patient_005|{[ 56016 339454      0   1171 651935], [('Tumour', 5.3421), ('Stroma', 32.3729), ('Inflamatory', 0.0), ('Necrosis', 0.1117), ('Others', 62.1734)]}    |\n",
      "|patient_010_node_3.tif_tile_23_x73728_y82944_score23181.8.png  |patient_010_node_3.tif|patient_010|{[   7013       0       0       0 1041563], [('Tumour', 0.6688), ('Stroma', 0.0), ('Inflamatory', 0.0), ('Necrosis', 0.0), ('Others', 99.3312)]}      |\n",
      "|patient_010_node_4.tif_tile_168_x21504_y93184_score20400.0.png |patient_010_node_4.tif|patient_010|{[     42       0       0       0 1048534], [('Tumour', 0.004), ('Stroma', 0.0), ('Inflamatory', 0.0), ('Necrosis', 0.0), ('Others', 99.996)]}        |\n",
      "|patient_008_node_0.tif_tile_205_x10240_y140288_score16227.3.png|patient_008_node_0.tif|patient_008|{[   7725    7991       0   10760 1022100], [('Tumour', 0.7367), ('Stroma', 0.7621), ('Inflamatory', 0.0), ('Necrosis', 1.0262), ('Others', 97.4751)]}|\n",
      "|patient_000_node_1.tif_tile_53_x0_y145408_score22695.0.png     |patient_000_node_1.tif|patient_000|{[ 29657 191967      0      0 826952], [('Tumour', 2.8283), ('Stroma', 18.3074), ('Inflamatory', 0.0), ('Necrosis', 0.0), ('Others', 78.8643)]}       |\n",
      "|patient_010_node_4.tif_tile_117_x71680_y52224_score23205.0.png |patient_010_node_4.tif|patient_010|{[      0    3959       0       0 1044617], [('Tumour', 0.0), ('Stroma', 0.3776), ('Inflamatory', 0.0), ('Necrosis', 0.0), ('Others', 99.6224)]}      |\n",
      "|patient_008_node_0.tif_tile_59_x91136_y2048_score22971.1.png   |patient_008_node_0.tif|patient_008|{[   4165       0       0       0 1044411], [('Tumour', 0.3972), ('Stroma', 0.0), ('Inflamatory', 0.0), ('Necrosis', 0.0), ('Others', 99.6028)]}      |\n",
      "|patient_004_node_1.tif_tile_47_x96256_y139264_score24990.0.png |patient_004_node_1.tif|patient_004|{[  1175 111391      0      0 291914], [('Tumour', 0.2905), ('Stroma', 27.5393), ('Inflamatory', 0.0), ('Necrosis', 0.0), ('Others', 72.1702)]}       |\n",
      "+---------------------------------------------------------------+----------------------+-----------+------------------------------------------------------------------------------------------------------------------------------------------------------+\n",
      "only showing top 20 rows\n",
      "\n"
     ]
    }
   ],
   "source": [
    "data_4.show(truncate=False)"
   ]
  },
  {
   "cell_type": "code",
   "execution_count": 12,
   "metadata": {},
   "outputs": [
    {
     "name": "stdout",
     "output_type": "stream",
     "text": [
      "root\n",
      " |-- filename: string (nullable = true)\n",
      " |-- patient_key: string (nullable = true)\n",
      " |-- patient_id: string (nullable = true)\n",
      " |-- features: struct (nullable = true)\n",
      " |    |-- bins: string (nullable = true)\n",
      " |    |-- out: string (nullable = true)\n",
      "\n"
     ]
    }
   ],
   "source": [
    "data_4.printSchema()"
   ]
  },
  {
   "cell_type": "code",
   "execution_count": 19,
   "metadata": {},
   "outputs": [
    {
     "name": "stdout",
     "output_type": "stream",
     "text": [
      "+---------------------------------------------------------------+----------------------+-----------+-----------------------------------------+-------------------------------------------------------------------------------------------------------+\n",
      "|filename                                                       |patient_key           |patient_id |bins                                     |percentages                                                                                            |\n",
      "+---------------------------------------------------------------+----------------------+-----------+-----------------------------------------+-------------------------------------------------------------------------------------------------------+\n",
      "|patient_000_node_1.tif_tile_44_x0_y166912_score22950.0.png     |patient_000_node_1.tif|patient_000|[ 28738  32662      0      0 987176]     |[('Tumour', 2.7407), ('Stroma', 3.1149), ('Inflamatory', 0.0), ('Necrosis', 0.0), ('Others', 94.1444)] |\n",
      "|patient_004_node_1.tif_tile_29_x96256_y142336_score25500.0.png |patient_004_node_1.tif|patient_004|[  1743  70545      0      0 332192]     |[('Tumour', 0.4309), ('Stroma', 17.4409), ('Inflamatory', 0.0), ('Necrosis', 0.0), ('Others', 82.1282)]|\n",
      "|patient_009_node_2.tif_tile_12_x96256_y133120_score25500.0.png |patient_009_node_2.tif|patient_009|[  3457  16707      0      0 384316]     |[('Tumour', 0.8547), ('Stroma', 4.1305), ('Inflamatory', 0.0), ('Necrosis', 0.0), ('Others', 95.0148)] |\n",
      "|patient_008_node_0.tif_tile_31_x56320_y75776_score24235.5.png  |patient_008_node_0.tif|patient_008|[     17   43435       0       0 1005124]|[('Tumour', 0.0016), ('Stroma', 4.1423), ('Inflamatory', 0.0), ('Necrosis', 0.0), ('Others', 95.8561)] |\n",
      "|patient_004_node_2.tif_tile_46_x94208_y47104_score25500.0.png  |patient_004_node_2.tif|patient_004|[    41 375607      0      0 402592]     |[('Tumour', 0.0053), ('Stroma', 48.2636), ('Inflamatory', 0.0), ('Necrosis', 0.0), ('Others', 51.7311)]|\n",
      "|patient_010_node_3.tif_tile_31_x43008_y38912_score21706.6.png  |patient_010_node_3.tif|patient_010|[    912      95       0       0 1047569]|[('Tumour', 0.087), ('Stroma', 0.0091), ('Inflamatory', 0.0), ('Necrosis', 0.0), ('Others', 99.904)]   |\n",
      "|patient_004_node_1.tif_tile_129_x92160_y125952_score22950.0.png|patient_004_node_1.tif|patient_004|[   1328       0       0       0 1047248]|[('Tumour', 0.1266), ('Stroma', 0.0), ('Inflamatory', 0.0), ('Necrosis', 0.0), ('Others', 99.8734)]    |\n",
      "|patient_009_node_2.tif_tile_13_x96256_y134144_score25500.0.png |patient_009_node_2.tif|patient_009|[  8132   4631      0      0 391717]     |[('Tumour', 2.0105), ('Stroma', 1.1449), ('Inflamatory', 0.0), ('Necrosis', 0.0), ('Others', 96.8446)] |\n",
      "|patient_004_node_2.tif_tile_47_x94208_y48128_score25500.0.png  |patient_004_node_2.tif|patient_004|[    18 351365      0      0 426857]     |[('Tumour', 0.0023), ('Stroma', 45.1487), ('Inflamatory', 0.0), ('Necrosis', 0.0), ('Others', 54.849)] |\n",
      "|patient_009_node_2.tif_tile_109_x24576_y196608_score23800.0.png|patient_009_node_2.tif|patient_009|[     0  39310      0      0 593522]     |[('Tumour', 0.0), ('Stroma', 6.2118), ('Inflamatory', 0.0), ('Necrosis', 0.0), ('Others', 93.7882)]    |\n",
      "+---------------------------------------------------------------+----------------------+-----------+-----------------------------------------+-------------------------------------------------------------------------------------------------------+\n",
      "only showing top 10 rows\n",
      "\n"
     ]
    }
   ],
   "source": [
    "percentages = data_4\\\n",
    "    .select('filename', 'patient_key', 'patient_id',  'features.bins', 'features.out')\\\n",
    "    .withColumnRenamed('bins', 'bins')\\\n",
    "    .withColumnRenamed('out', 'percentages')\n",
    "percentages    .show(truncate=False, n=10)"
   ]
  },
  {
   "cell_type": "code",
   "execution_count": 20,
   "metadata": {},
   "outputs": [
    {
     "name": "stdout",
     "output_type": "stream",
     "text": [
      "root\n",
      " |-- filename: string (nullable = true)\n",
      " |-- patient_key: string (nullable = true)\n",
      " |-- patient_id: string (nullable = true)\n",
      " |-- bins: string (nullable = true)\n",
      " |-- Tumor: double (nullable = true)\n",
      " |-- Stroma: double (nullable = true)\n",
      " |-- Inflamatory: double (nullable = true)\n",
      " |-- Necrosis: double (nullable = true)\n",
      " |-- Others: double (nullable = true)\n",
      "\n",
      "+---------------------------------------------------------------+----------------------+-----------+-----------------------------------------+---------------------+--------------------+-----------+--------+------------------+\n",
      "|filename                                                       |patient_key           |patient_id |bins                                     |Tumor                |Stroma              |Inflamatory|Necrosis|Others            |\n",
      "+---------------------------------------------------------------+----------------------+-----------+-----------------------------------------+---------------------+--------------------+-----------+--------+------------------+\n",
      "|patient_000_node_1.tif_tile_44_x0_y166912_score22950.0.png     |patient_000_node_1.tif|patient_000|[ 28738  32662      0      0 987176]     |0.027407             |0.031149            |0.0        |0.0     |0.9414440000000001|\n",
      "|patient_004_node_1.tif_tile_29_x96256_y142336_score25500.0.png |patient_004_node_1.tif|patient_004|[  1743  70545      0      0 332192]     |0.004309             |0.17440899999999998 |0.0        |0.0     |0.8212820000000001|\n",
      "|patient_009_node_2.tif_tile_12_x96256_y133120_score25500.0.png |patient_009_node_2.tif|patient_009|[  3457  16707      0      0 384316]     |0.008547             |0.041304999999999994|0.0        |0.0     |0.950148          |\n",
      "|patient_008_node_0.tif_tile_31_x56320_y75776_score24235.5.png  |patient_008_node_0.tif|patient_008|[     17   43435       0       0 1005124]|1.6E-5               |0.041422999999999995|0.0        |0.0     |0.958561          |\n",
      "|patient_004_node_2.tif_tile_46_x94208_y47104_score25500.0.png  |patient_004_node_2.tif|patient_004|[    41 375607      0      0 402592]     |5.3E-5               |0.48263599999999995 |0.0        |0.0     |0.517311          |\n",
      "|patient_010_node_3.tif_tile_31_x43008_y38912_score21706.6.png  |patient_010_node_3.tif|patient_010|[    912      95       0       0 1047569]|8.699999999999999E-4 |9.1E-5              |0.0        |0.0     |0.9990399999999999|\n",
      "|patient_004_node_1.tif_tile_129_x92160_y125952_score22950.0.png|patient_004_node_1.tif|patient_004|[   1328       0       0       0 1047248]|0.001266             |0.0                 |0.0        |0.0     |0.998734          |\n",
      "|patient_009_node_2.tif_tile_13_x96256_y134144_score25500.0.png |patient_009_node_2.tif|patient_009|[  8132   4631      0      0 391717]     |0.020104999999999998 |0.011449            |0.0        |0.0     |0.968446          |\n",
      "|patient_004_node_2.tif_tile_47_x94208_y48128_score25500.0.png  |patient_004_node_2.tif|patient_004|[    18 351365      0      0 426857]     |2.3E-5               |0.45148699999999997 |0.0        |0.0     |0.5484899999999999|\n",
      "|patient_009_node_2.tif_tile_109_x24576_y196608_score23800.0.png|patient_009_node_2.tif|patient_009|[     0  39310      0      0 593522]     |0.0                  |0.062118            |0.0        |0.0     |0.937882          |\n",
      "|patient_000_node_1.tif_tile_55_x0_y159744_score22695.0.png     |patient_000_node_1.tif|patient_000|[   2452       0       0       0 1046124]|0.0023380000000000002|0.0                 |0.0        |0.0     |0.9976619999999999|\n",
      "|patient_009_node_2.tif_tile_74_x16384_y196608_score25500.0.png |patient_009_node_2.tif|patient_009|[     0      0      0      0 632832]     |0.0                  |0.0                 |0.0        |0.0     |1.0               |\n",
      "|patient_005_node_0.tif_tile_118_x0_y71680_score22950.0.png     |patient_005_node_0.tif|patient_005|[ 56016 339454      0   1171 651935]     |0.053421             |0.323729            |0.0        |0.001117|0.621734          |\n",
      "|patient_010_node_3.tif_tile_23_x73728_y82944_score23181.8.png  |patient_010_node_3.tif|patient_010|[   7013       0       0       0 1041563]|0.0066879999999999995|0.0                 |0.0        |0.0     |0.993312          |\n",
      "|patient_010_node_4.tif_tile_168_x21504_y93184_score20400.0.png |patient_010_node_4.tif|patient_010|[     42       0       0       0 1048534]|4.0E-5               |0.0                 |0.0        |0.0     |0.99996           |\n",
      "|patient_008_node_0.tif_tile_205_x10240_y140288_score16227.3.png|patient_008_node_0.tif|patient_008|[   7725    7991       0   10760 1022100]|0.007367             |0.007621            |0.0        |0.010262|0.9747509999999999|\n",
      "|patient_000_node_1.tif_tile_53_x0_y145408_score22695.0.png     |patient_000_node_1.tif|patient_000|[ 29657 191967      0      0 826952]     |0.028283             |0.18307400000000001 |0.0        |0.0     |0.788643          |\n",
      "|patient_010_node_4.tif_tile_117_x71680_y52224_score23205.0.png |patient_010_node_4.tif|patient_010|[      0    3959       0       0 1044617]|0.0                  |0.003776            |0.0        |0.0     |0.996224          |\n",
      "|patient_008_node_0.tif_tile_59_x91136_y2048_score22971.1.png   |patient_008_node_0.tif|patient_008|[   4165       0       0       0 1044411]|0.003972             |0.0                 |0.0        |0.0     |0.996028          |\n",
      "|patient_004_node_1.tif_tile_47_x96256_y139264_score24990.0.png |patient_004_node_1.tif|patient_004|[  1175 111391      0      0 291914]     |0.0029049999999999996|0.275393            |0.0        |0.0     |0.721702          |\n",
      "+---------------------------------------------------------------+----------------------+-----------+-----------------------------------------+---------------------+--------------------+-----------+--------+------------------+\n",
      "only showing top 20 rows\n",
      "\n"
     ]
    }
   ],
   "source": [
    "# Create a function to calculate sum of fees and fine\n",
    "# as well as difference of fine and discount\n",
    "def extract(fees, place):\n",
    "    return eval(fees)[place][1]\n",
    "\n",
    "schema =  DoubleType()\n",
    "\n",
    "schema_1 = StructType([\n",
    "        StructField(\"id\", StringType(), False),\n",
    "        StructField(\"num_list\", DoubleType(), True)\n",
    "    ])\n",
    "\n",
    "# Call the user defined function inside UDF\n",
    "# function to create new columns \n",
    "data_frame_udf = F.udf(extract, schema)\n",
    "\n",
    "# Call the variable created through UDF in \n",
    "# previous step to add new columns\n",
    "updated_data_frame = percentages\\\n",
    "                            .withColumn(\"Tumor\", data_frame_udf(percentages[\"percentages\"], F.lit(0)) / 100 )\\\n",
    "                            .withColumn(\"Stroma\", data_frame_udf(percentages[\"percentages\"], F.lit(1)) / 100 )\\\n",
    "                            .withColumn(\"Inflamatory\", data_frame_udf(percentages[\"percentages\"], F.lit(2)) / 100 )\\\n",
    "                            .withColumn(\"Necrosis\", data_frame_udf(percentages[\"percentages\"], F.lit(3)) / 100 )\\\n",
    "                            .withColumn(\"Others\", data_frame_udf(percentages[\"percentages\"], F.lit(4)) / 100 )\\\n",
    "                            .drop('percentages')\n",
    "\n",
    "updated_data_frame.printSchema()\n",
    "\n",
    "# Display the updated data frame with \n",
    "# multiple columns added using UDF\n",
    "updated_data_frame.show(truncate=False)"
   ]
  },
  {
   "cell_type": "markdown",
   "metadata": {},
   "source": [
    "## Analyze"
   ]
  },
  {
   "cell_type": "code",
   "execution_count": 21,
   "metadata": {},
   "outputs": [
    {
     "data": {
      "text/plain": [
       "(39, 200)"
      ]
     },
     "execution_count": 21,
     "metadata": {},
     "output_type": "execute_result"
    }
   ],
   "source": [
    "updated_data_frame.filter(F.col('Tumor')>.02).count(), updated_data_frame.count(), "
   ]
  },
  {
   "cell_type": "code",
   "execution_count": 22,
   "metadata": {},
   "outputs": [
    {
     "data": {
      "text/html": [
       "<table border='1'>\n",
       "<tr><th>filename</th><th>patient_key</th><th>patient_id</th><th>bins</th><th>Tumor</th><th>Stroma</th><th>Inflamatory</th><th>Necrosis</th><th>Others</th></tr>\n",
       "<tr><td>patient_000_node_...</td><td>patient_000_node_...</td><td>patient_000</td><td>[ 28738  32662   ...</td><td>0.027407</td><td>0.031149</td><td>0.0</td><td>0.0</td><td>0.9414440000000001</td></tr>\n",
       "<tr><td>patient_009_node_...</td><td>patient_009_node_...</td><td>patient_009</td><td>[  8132   4631   ...</td><td>0.020104999999999998</td><td>0.011449</td><td>0.0</td><td>0.0</td><td>0.968446</td></tr>\n",
       "<tr><td>patient_005_node_...</td><td>patient_005_node_...</td><td>patient_005</td><td>[ 56016 339454   ...</td><td>0.053421</td><td>0.323729</td><td>0.0</td><td>0.001117</td><td>0.621734</td></tr>\n",
       "<tr><td>patient_000_node_...</td><td>patient_000_node_...</td><td>patient_000</td><td>[ 29657 191967   ...</td><td>0.028283</td><td>0.18307400000000001</td><td>0.0</td><td>0.0</td><td>0.788643</td></tr>\n",
       "<tr><td>patient_004_node_...</td><td>patient_004_node_...</td><td>patient_004</td><td>[ 15929 150484   ...</td><td>0.039381</td><td>0.372043</td><td>0.0</td><td>0.0</td><td>0.5885750000000001</td></tr>\n",
       "<tr><td>patient_004_node_...</td><td>patient_004_node_...</td><td>patient_004</td><td>[ 27472  77525   ...</td><td>0.06791900000000001</td><td>0.191666</td><td>0.0</td><td>0.0</td><td>0.740415</td></tr>\n",
       "<tr><td>patient_000_node_...</td><td>patient_000_node_...</td><td>patient_000</td><td>[  25337    4053 ...</td><td>0.024163</td><td>0.003865</td><td>0.0</td><td>6.29E-4</td><td>0.971342</td></tr>\n",
       "<tr><td>patient_010_node_...</td><td>patient_010_node_...</td><td>patient_010</td><td>[ 30357 587290   ...</td><td>0.028950999999999998</td><td>0.560083</td><td>0.0</td><td>0.0</td><td>0.410966</td></tr>\n",
       "<tr><td>patient_005_node_...</td><td>patient_005_node_...</td><td>patient_005</td><td>[ 60508 220960   ...</td><td>0.057705</td><td>0.210724</td><td>0.0</td><td>0.0</td><td>0.731571</td></tr>\n",
       "<tr><td>patient_010_node_...</td><td>patient_010_node_...</td><td>patient_010</td><td>[ 22584 356687   ...</td><td>0.021537999999999998</td><td>0.340163</td><td>0.0</td><td>0.0</td><td>0.6382990000000001</td></tr>\n",
       "<tr><td>patient_000_node_...</td><td>patient_000_node_...</td><td>patient_000</td><td>[  33442    4721 ...</td><td>0.031893</td><td>0.004502</td><td>0.0</td><td>0.0</td><td>0.963605</td></tr>\n",
       "<tr><td>patient_000_node_...</td><td>patient_000_node_...</td><td>patient_000</td><td>[ 29457      0   ...</td><td>0.028092000000000002</td><td>0.0</td><td>0.0</td><td>0.040388</td><td>0.93152</td></tr>\n",
       "<tr><td>patient_010_node_...</td><td>patient_010_node_...</td><td>patient_010</td><td>[ 47911 319585   ...</td><td>0.045690999999999996</td><td>0.30478</td><td>0.0</td><td>0.004057</td><td>0.645472</td></tr>\n",
       "<tr><td>patient_004_node_...</td><td>patient_004_node_...</td><td>patient_004</td><td>[ 14016  40445   ...</td><td>0.034651999999999995</td><td>0.099993</td><td>0.0</td><td>0.0</td><td>0.865356</td></tr>\n",
       "<tr><td>patient_000_node_...</td><td>patient_000_node_...</td><td>patient_000</td><td>[ 50156 307518   ...</td><td>0.047832</td><td>0.29327200000000003</td><td>0.0</td><td>0.0</td><td>0.658895</td></tr>\n",
       "<tr><td>patient_008_node_...</td><td>patient_008_node_...</td><td>patient_008</td><td>[ 50529  88797   ...</td><td>0.048188</td><td>0.084683</td><td>0.0</td><td>0.004175</td><td>0.862953</td></tr>\n",
       "<tr><td>patient_004_node_...</td><td>patient_004_node_...</td><td>patient_004</td><td>[ 31498 471405   ...</td><td>0.030038999999999996</td><td>0.449567</td><td>0.0</td><td>0.0</td><td>0.520394</td></tr>\n",
       "<tr><td>patient_000_node_...</td><td>patient_000_node_...</td><td>patient_000</td><td>[ 27327  51457   ...</td><td>0.026061</td><td>0.049073000000000006</td><td>0.0</td><td>0.0</td><td>0.924866</td></tr>\n",
       "<tr><td>patient_005_node_...</td><td>patient_005_node_...</td><td>patient_005</td><td>[ 21839 273910  1...</td><td>0.020827</td><td>0.261221</td><td>0.013389999999999999</td><td>0.011833</td><td>0.692729</td></tr>\n",
       "<tr><td>patient_008_node_...</td><td>patient_008_node_...</td><td>patient_008</td><td>[  35255   10022 ...</td><td>0.033622</td><td>0.009558</td><td>0.0</td><td>0.0</td><td>0.95682</td></tr>\n",
       "</table>\n",
       "only showing top 20 rows\n"
      ],
      "text/plain": [
       "+--------------------+--------------------+-----------+--------------------+--------------------+--------------------+--------------------+--------+------------------+\n",
       "|            filename|         patient_key| patient_id|                bins|               Tumor|              Stroma|         Inflamatory|Necrosis|            Others|\n",
       "+--------------------+--------------------+-----------+--------------------+--------------------+--------------------+--------------------+--------+------------------+\n",
       "|patient_000_node_...|patient_000_node_...|patient_000|[ 28738  32662   ...|            0.027407|            0.031149|                 0.0|     0.0|0.9414440000000001|\n",
       "|patient_009_node_...|patient_009_node_...|patient_009|[  8132   4631   ...|0.020104999999999998|            0.011449|                 0.0|     0.0|          0.968446|\n",
       "|patient_005_node_...|patient_005_node_...|patient_005|[ 56016 339454   ...|            0.053421|            0.323729|                 0.0|0.001117|          0.621734|\n",
       "|patient_000_node_...|patient_000_node_...|patient_000|[ 29657 191967   ...|            0.028283| 0.18307400000000001|                 0.0|     0.0|          0.788643|\n",
       "|patient_004_node_...|patient_004_node_...|patient_004|[ 15929 150484   ...|            0.039381|            0.372043|                 0.0|     0.0|0.5885750000000001|\n",
       "|patient_004_node_...|patient_004_node_...|patient_004|[ 27472  77525   ...| 0.06791900000000001|            0.191666|                 0.0|     0.0|          0.740415|\n",
       "|patient_000_node_...|patient_000_node_...|patient_000|[  25337    4053 ...|            0.024163|            0.003865|                 0.0| 6.29E-4|          0.971342|\n",
       "|patient_010_node_...|patient_010_node_...|patient_010|[ 30357 587290   ...|0.028950999999999998|            0.560083|                 0.0|     0.0|          0.410966|\n",
       "|patient_005_node_...|patient_005_node_...|patient_005|[ 60508 220960   ...|            0.057705|            0.210724|                 0.0|     0.0|          0.731571|\n",
       "|patient_010_node_...|patient_010_node_...|patient_010|[ 22584 356687   ...|0.021537999999999998|            0.340163|                 0.0|     0.0|0.6382990000000001|\n",
       "|patient_000_node_...|patient_000_node_...|patient_000|[  33442    4721 ...|            0.031893|            0.004502|                 0.0|     0.0|          0.963605|\n",
       "|patient_000_node_...|patient_000_node_...|patient_000|[ 29457      0   ...|0.028092000000000002|                 0.0|                 0.0|0.040388|           0.93152|\n",
       "|patient_010_node_...|patient_010_node_...|patient_010|[ 47911 319585   ...|0.045690999999999996|             0.30478|                 0.0|0.004057|          0.645472|\n",
       "|patient_004_node_...|patient_004_node_...|patient_004|[ 14016  40445   ...|0.034651999999999995|            0.099993|                 0.0|     0.0|          0.865356|\n",
       "|patient_000_node_...|patient_000_node_...|patient_000|[ 50156 307518   ...|            0.047832| 0.29327200000000003|                 0.0|     0.0|          0.658895|\n",
       "|patient_008_node_...|patient_008_node_...|patient_008|[ 50529  88797   ...|            0.048188|            0.084683|                 0.0|0.004175|          0.862953|\n",
       "|patient_004_node_...|patient_004_node_...|patient_004|[ 31498 471405   ...|0.030038999999999996|            0.449567|                 0.0|     0.0|          0.520394|\n",
       "|patient_000_node_...|patient_000_node_...|patient_000|[ 27327  51457   ...|            0.026061|0.049073000000000006|                 0.0|     0.0|          0.924866|\n",
       "|patient_005_node_...|patient_005_node_...|patient_005|[ 21839 273910  1...|            0.020827|            0.261221|0.013389999999999999|0.011833|          0.692729|\n",
       "|patient_008_node_...|patient_008_node_...|patient_008|[  35255   10022 ...|            0.033622|            0.009558|                 0.0|     0.0|           0.95682|\n",
       "+--------------------+--------------------+-----------+--------------------+--------------------+--------------------+--------------------+--------+------------------+\n",
       "only showing top 20 rows"
      ]
     },
     "execution_count": 22,
     "metadata": {},
     "output_type": "execute_result"
    }
   ],
   "source": [
    "updated_data_frame.filter(F.col('Tumor')>.02)"
   ]
  }
 ],
 "metadata": {
  "language_info": {
   "name": "python"
  }
 },
 "nbformat": 4,
 "nbformat_minor": 2
}
